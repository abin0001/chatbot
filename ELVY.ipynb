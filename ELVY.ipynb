{
  "nbformat": 4,
  "nbformat_minor": 0,
  "metadata": {
    "colab": {
      "provenance": [],
      "authorship_tag": "ABX9TyPxNESArqpetiTvUjTe7Hup",
      "include_colab_link": true
    },
    "kernelspec": {
      "name": "python3",
      "display_name": "Python 3"
    },
    "language_info": {
      "name": "python"
    }
  },
  "cells": [
    {
      "cell_type": "markdown",
      "metadata": {
        "id": "view-in-github",
        "colab_type": "text"
      },
      "source": [
        "<a href=\"https://colab.research.google.com/github/abin0001/chatbot/blob/master/ELVY.ipynb\" target=\"_parent\"><img src=\"https://colab.research.google.com/assets/colab-badge.svg\" alt=\"Open In Colab\"/></a>"
      ]
    },
    {
      "cell_type": "markdown",
      "source": [
        "# **ELVY THE HUMANOID RECEPTION BOT**"
      ],
      "metadata": {
        "id": "E9ip4Dy9_mv6"
      }
    },
    {
      "cell_type": "code",
      "execution_count": null,
      "metadata": {
        "id": "Xo4It6yyKqIF"
      },
      "outputs": [],
      "source": [
        "!pip install -q -U google-generativeai"
      ]
    },
    {
      "cell_type": "markdown",
      "source": [
        "# ***Data Collection***"
      ],
      "metadata": {
        "id": "PZ3ObhHTKl1q"
      }
    },
    {
      "cell_type": "code",
      "source": [
        "import requests # module is used to send and get requests\n",
        "from bs4  import BeautifulSoup # it is used for sparser\n",
        "\n",
        "\n",
        "#adding header to authorize the website\n",
        "var_Headers = {'User-Agent': 'Mozilla/5.0 (Macintosh; Intel Mac OS X 10_11_5) AppleWebKit/537.36 (KHTML, like Gecko) Chrome/50.0.2661.102 Safari/537.36'}\n",
        "\n",
        "# Url of the website\n",
        "var_Url= 'https://www.srmist.edu.in/department/department-of-computer-applications/'\n",
        "\n",
        "var_PageContents=requests.get(var_Url,headers=var_Headers)# to get the weeb data\n"
      ],
      "metadata": {
        "id": "8IGT-7Kf_5IE"
      },
      "execution_count": 2,
      "outputs": []
    },
    {
      "cell_type": "code",
      "source": [
        "# Get the all content in the website\n",
        "\n",
        "# var_Txt= var_PageContents.text # data\n",
        "# var_Status=var_PageContents.status_code #Status code\n",
        "# print(var_Txt)"
      ],
      "metadata": {
        "id": "Z9hsyd-RLO3u"
      },
      "execution_count": null,
      "outputs": []
    },
    {
      "cell_type": "code",
      "source": [
        "# Get the title of the website\n",
        "var_bs= BeautifulSoup(var_PageContents.content,'html.parser')# Implementing the html parser.\n",
        "\n",
        "var_PageTittle = var_bs.title.text # Tittle of the Websites\n",
        "\n",
        "print(var_PageTittle) # Display Tittle Name"
      ],
      "metadata": {
        "colab": {
          "base_uri": "https://localhost:8080/"
        },
        "id": "wgdqmnw1nN8x",
        "outputId": "0ba0d99b-60aa-491c-ae11-bc07c7c4337a"
      },
      "execution_count": 11,
      "outputs": [
        {
          "output_type": "stream",
          "name": "stdout",
          "text": [
            "Department of Computer Applications - SRMIST\n"
          ]
        }
      ]
    },
    {
      "cell_type": "code",
      "source": [
        "data={\n",
        "    \"Heading\":[],\n",
        "    \"Sub Heading\":[],\n",
        "    \"Paragraph\":[]\n",
        "}"
      ],
      "metadata": {
        "id": "QBaXhoIE7Yfm"
      },
      "execution_count": 128,
      "outputs": []
    },
    {
      "cell_type": "code",
      "source": [
        "for section in var_bs.find_all('section', id='sec_visibilitytrue'):\n",
        "    for h2 in section.find_all('h2'):\n",
        "      data[\"Heading\"].append(h2.text)\n",
        "    for h3 in section.find_all('h3'):\n",
        "      data[\"Sub Heading\"].append(h3.text)\n",
        "    for p in section.find_all('p'):\n",
        "      data[\"Paragraph\"].append(p.text)"
      ],
      "metadata": {
        "id": "Mgxzx9s9rrL5"
      },
      "execution_count": 129,
      "outputs": []
    },
    {
      "cell_type": "code",
      "source": [
        "print(data)"
      ],
      "metadata": {
        "colab": {
          "base_uri": "https://localhost:8080/"
        },
        "id": "dRS_jp717Pr2",
        "outputId": "bffeb10f-9c8f-4ee8-dd82-baa10de3845e"
      },
      "execution_count": 119,
      "outputs": [
        {
          "output_type": "stream",
          "name": "stdout",
          "text": [
            "{'Heading': ['About the Department', 'Department of Computer Applications', '2006', '', '20', '', '1080', '', '110', '+', '3', '', 'Dr. Albert Antony Raj S', 'Welcome message', 'Programs Offered', 'Placements', 'Faculty', 'Happenings ', 'Infrastructure', 'Contact us'], 'Sub Heading': ['Vision', 'Mission', 'Head of the Department/Deputy dean', 'BCA', 'MCA & M.Sc', 'Ph.D'], 'Paragraph': ['The Department of Computer Applications at SRM Institute of Science and Technology has always been on the top as the paradigm of quality with the most modern curriculum and syllabus. Ever since its inception in 2005, the department has attained unprecedented heights and stands on par excellence among its counterparts in Tamil Nadu and India. The Department has proven its academic prowess and success with an extensive range of courses offered both at the Undergraduate and Postgraduate levels. The Department offers BCA, BCA Data Science at the UG level, and MCA, M.Sc Applied Data Science at the PG level.', 'Consistently ranked among the top Computer Applications programs in India, the Computer Applications Department at SRM offers a flexible curriculum designed to allow students to explore their own interests in increasing depth. The curriculum is revamped to suit the industry needs with an emphasis on theory and application that demarcates SRM Computer Applications from most colleges.', 'Established', 'Faculty & Staff', 'Students', 'Publications', 'Patent (Published)', 'To be a leading department that provides transformative education through qualitative teaching and learning practices.\\nTo be a centre of excellence in education and research, producing global leaders for improvement of the society\\n', 'To be a leading department that provides transformative education through qualitative teaching and learning practices.', 'To be a centre of excellence in education and research, producing global leaders for improvement of the society', 'To provide sound fundamentals, and advances in Computer Applications by offering world class curricula.\\nTo create ethically strong leaders and trend setters for next generation IT.\\nTo nurture the desire among faculty and students from across the globe to perform outstanding and impactful research for the benefit of humanity and, to achieve meritorious and significant growth\\n', 'To provide sound fundamentals, and advances in Computer Applications by offering world class curricula.', 'To create ethically strong leaders and trend setters for next generation IT.', 'To nurture the desire among faculty and students from across the globe to perform outstanding and impactful research for the benefit of humanity and, to achieve meritorious and significant growth', 'The Department of Computer Applications is dedicated for ensuring great careers for students joined for pursuing Undergraduate or Postgraduate. The excellent infrastructure, teaching faculty of the best kind of the Department ensuring quality education such as interaction among students, parents, and staff, along with a Training and Placement Cell ensures a bright future to its students. We strongly encourage innovation in research, in teaching, and in service to the profession, the local community, and industry. Our faculty and students are constantly striving to excel and to advance the state of the art in Computer Applications.', 'The primary focus of our curriculum is to impart technical knowledge, promote problem solving skills, and innovation of new technologies. The department offers a wide variety of elective courses for providing wide spectrum of options to the students to pursue their interests. The course contents are periodically updated for introducing new scientific and technological developments. \\xa0Undergraduate and Postgraduate students are encouraged to undertake various research projects.', 'We provide ample opportunities to learn more about Computer Applications as a student; we love to share our passion with every student. Learn how to not only use computational tools but how to work in teams, share ideas, present, communicate in short, join creative teams that make a positive difference.', 'We believe that our approach to teaching-learning, coupled with practical experience gained during Industrial Training in reputed organizations, equips our students to handle the challenges posed by the software industry.', 'We look forward to continue to offer our students a greater learning experience in the field of Computer Applications and welcome prospective students to join us and become ambassadors of Computer Applications.', 'The Department of Computer Applications offers undergraduate programmes based on world-class syllabus. The curriculum helps students to explore the field of Computer applications and Data Science. It also helps students to identify their skills and enhance their knowledge with creativity. The Computer Applications program focuses on the development of software and applications, computer programming, database management, and web development.', 'The Department of Computer Applications offers postgraduate programmes including core courses as well as elective independent study. It provides latitude for the students to explore the new technology. The syllabus is designed with the metrics of research as it helps students to enhance themselves with the knowledge of incorporating methodology, exploration, and interpretation in the field of research.', 'The Ph.D. program in the Department of Computer Applications has been specially designed to cater to the scholarly needs. The department gives privilege to the research scholars to do their research in their respective domains.  The research supervisors empower the research scholars to do authentic research work. The institution supports the research endeavors of faculty and students by providing incentives for publications and patents. ', 'Technologies,\\xa0\\xa0\\xa0 Trilogy Innovations, Delloite,', '\\xa0', 'Teaching environment and quality are central to SRMIST’s capabilities profile. Our Professors are the reason for our continued ability to foster vibrant and value adding learning experiences for our students. The success of our students’ in terms of their learning and overall development enabled by our faculty members is an area of focus of Leadership at SRMIST. Many opportunities are provided to our faculty members to conduct research and engage with the industry in consultancy and other projects. This platform brings to our faculty members an opportunity to expand their knowledge contribution as well as bring those rich experiential inputs to the classrooms and labs, therefore, benefiting our students.', '1.', '2.', '3.', '4.', 'Department of Computer Applications,\\nSRM Nagar, Kattankulathur -603203,\\nChengalpattu District,\\nTamil Nadu.']}\n"
          ]
        }
      ]
    },
    {
      "cell_type": "code",
      "source": [
        "for dta in data[\"Heading\"]:\n",
        "  if len(dta)<=5 or len(dta)==0 or dta=='':\n",
        "    data[\"Heading\"].pop(data[\"Heading\"].index(dta))\n",
        ""
      ],
      "metadata": {
        "id": "BJDw8elo8caR"
      },
      "execution_count": 130,
      "outputs": []
    },
    {
      "cell_type": "code",
      "source": [
        "print(data[\"Heading\"])"
      ],
      "metadata": {
        "colab": {
          "base_uri": "https://localhost:8080/"
        },
        "id": "evroKgaR9X1r",
        "outputId": "bf0fc5f6-9988-4da0-a364-8badeb8d90a0"
      },
      "execution_count": 131,
      "outputs": [
        {
          "output_type": "stream",
          "name": "stdout",
          "text": [
            "['About the Department', 'Department of Computer Applications', '', '', '', '+', '', 'Dr. Albert Antony Raj S', 'Welcome message', 'Programs Offered', 'Placements', 'Faculty', 'Happenings ', 'Infrastructure', 'Contact us']\n"
          ]
        }
      ]
    },
    {
      "cell_type": "code",
      "source": [
        "len(data[\"Heading\"][3])"
      ],
      "metadata": {
        "colab": {
          "base_uri": "https://localhost:8080/"
        },
        "id": "vbpGEB7XCbkX",
        "outputId": "eb7a4b19-0343-42e6-8b4e-b89e96b9b6b8"
      },
      "execution_count": 124,
      "outputs": [
        {
          "output_type": "execute_result",
          "data": {
            "text/plain": [
              "0"
            ]
          },
          "metadata": {},
          "execution_count": 124
        }
      ]
    },
    {
      "cell_type": "code",
      "source": [
        "for script in var_bs([\"scripts\",\"style\",\"footer\"]):\n",
        "  script.extract()"
      ],
      "metadata": {
        "id": "rse8wWftzCQE"
      },
      "execution_count": null,
      "outputs": []
    },
    {
      "cell_type": "code",
      "source": [
        "text=var_bs.get_text()"
      ],
      "metadata": {
        "id": "5hF-Q9AezhjC"
      },
      "execution_count": null,
      "outputs": []
    },
    {
      "cell_type": "code",
      "source": [
        "lines=(line.strip() for line in text.splitlines())"
      ],
      "metadata": {
        "id": "HCh67HLWGq2n"
      },
      "execution_count": null,
      "outputs": []
    },
    {
      "cell_type": "code",
      "source": [
        "chunks=(pharse.strip() for line in lines for pharse in line.split(\" \"))"
      ],
      "metadata": {
        "id": "X7hFvL53G3uF"
      },
      "execution_count": null,
      "outputs": []
    },
    {
      "cell_type": "code",
      "source": [
        "text=' '.join(chunk for chunk in chunks if chunk)\n",
        "\n",
        "print(text)"
      ],
      "metadata": {
        "colab": {
          "base_uri": "https://localhost:8080/"
        },
        "id": "2txv0lkaHLrM",
        "outputId": "739046ec-6e9b-4132-b865-16f3002c3f1b"
      },
      "execution_count": null,
      "outputs": [
        {
          "output_type": "stream",
          "name": "stdout",
          "text": [
            "Department of Computer Applications - SRMIST Skip to content Students Faculty & Staff Parents Visitors Alumni Examinations Campuses Kattankulathur – Chennai Ramapuram – Chennai Vadapalani – Chennai Tiruchirappalli Delhi – NCR Menu Students Faculty & Staff Parents Visitors Alumni Examinations Campuses Kattankulathur – Chennai Ramapuram – Chennai Vadapalani – Chennai Tiruchirappalli Delhi – NCR Admissions News Events Careers Contact us Menu News Events Careers Contact us Academics Research Campus life International About Academics Engineering & Technology Management Science & Humanities Law Agricultural Sciences Distance Education Online Education Medicine & Health Sciences Medicine Dentistry Pharmacy Physiotherapy Occupational Therapy Nursing Public Health Programme Finder Library Placements quick links: Departments A-Z Publications Achievements Staff / Faculty Visiting Foreign Faculty Research Overview Directorate of Research Policy Recent Projects Research Highlights Research Council RDC Happenings Research Day DPRC Awards and Recognition Academic Research Ph.D Awarded Publications Patents Area of Research Thrust area Funded Research Sponsored Projects SERI Central Research Laboratories and Facilities IIISM REACH NRC CACR SRM DBT Platform Medical Research Center Center for Statistics Earthquake Research Cell HPCC SCIF Collaboration MoUs Industry Connect Multi-disciplinary Research Innovation Hub Innovation & Incubation Directorate of Entrepreneurship and Innovation FAB LAB Central Facilities Geo-tagged Photographs and Videos MoUs Patents Call for Proposals quick links: Nanotechnology Research Earthquake Research Cell SRM DBT Platform Regulations & Forms Research Day 2024 Campus life Life at SRM Overview Art and Culture Sports Library NCC NSS Student Counselling Transport Facilities & Operations SRM Muthucharam Public Service Student Life Holistic Development Enjoyable Green Campus Student Affairs Diversity Community Centers Clubs Religious Life Housing & Residental Accommodation Girls Hostel Boys Hostel International Hostel How to Apply Dining & Eateries Safety & Security Contact us Milan 2023 Student Life Sports quick links: Milan Aaruush Sports & Fitness Events Grievance Redressal Anti-ragging Committee International International Relations at SRM About us International Advisory Board Global Exposure Outward Mobility Inward Mobility / Exchange Networking & Alliances Study Abroad Semester Abroad Programme Dual Degree Programme Twining Programme Inward Study at SRM / Exchange Visiting Foreign Faculty Global Immersion Programme Admission International​ International Hostel MoUs quick links: International Alumni Network International Events International News About SRM in Focus Overview History Accreditations & Rankings Awards & Recognition Placement Apex Leadership Governance Administrative Heads Academic Heads Organisation Alumni Affairs Communications Controller of Examinations Career Centre Campus Life Campus Administration ITKM Learning & Development Admissions Online Education Distance Education International Relations Internal Quality Assurance Cell Research Sports Student Affairs cultural events youth festival Contact SRMIST Quick Links: Virtual Tour 360° Contact Us Student Achievements Announcements Events latest News Search Close Apply Now Apply Now Department of Computer Applications HomeCollege of Science & HumanitiesDepartment of Computer Applications About Programs Placements Faculty Infrastructure Contact About the Department The Department of Computer Applications at SRM Institute of Science and Technology has always been on the top as the paradigm of quality with the most modern curriculum and syllabus. Ever since its inception in 2005, the department has attained unprecedented heights and stands on par excellence among its counterparts in Tamil Nadu and India. The Department has proven its academic prowess and success with an extensive range of courses offered both at the Undergraduate and Postgraduate levels. The Department offers BCA, BCA Data Science at the UG level, and MCA, M.Sc Applied Data Science at the PG level. Consistently ranked among the top Computer Applications programs in India, the Computer Applications Department at SRM offers a flexible curriculum designed to allow students to explore their own interests in increasing depth. The curriculum is revamped to suit the industry needs with an emphasis on theory and application that demarcates SRM Computer Applications from most colleges. Department of Computer Applications Board of Studies Research Awards and Accolades Student Clubs, Professional Chapters And Association Bodies Alumni Connect Activities 2006 Established 20 Faculty & Staff 1080 Students 110 + Publications 3 Patent (Published) Vision To be a leading department that provides transformative education through qualitative teaching and learning practices. To be a centre of excellence in education and research, producing global leaders for improvement of the society Mission To provide sound fundamentals, and advances in Computer Applications by offering world class curricula. To create ethically strong leaders and trend setters for next generation IT. To nurture the desire among faculty and students from across the globe to perform outstanding and impactful research for the benefit of humanity and, to achieve meritorious and significant growth Dr. Albert Antony Raj S Head of the Department/Deputy dean Welcome message The Department of Computer Applications is dedicated for ensuring great careers for students joined for pursuing Undergraduate or Postgraduate. The excellent infrastructure, teaching faculty of the best kind of the Department ensuring quality education such as interaction among students, parents, and staff, along with a Training and Placement Cell ensures a bright future to its students. We strongly encourage innovation in research, in teaching, and in service to the profession, the local community, and industry. Our faculty and students are constantly striving to excel and to advance the state of the art in Computer Applications. The primary focus of our curriculum is to impart technical knowledge, promote problem solving skills, and innovation of new technologies. The department offers a wide variety of elective courses for providing wide spectrum of options to the students to pursue their interests. The course contents are periodically updated for introducing new scientific and technological developments. Undergraduate and Postgraduate students are encouraged to undertake various research projects. We provide ample opportunities to learn more about Computer Applications as a student; we love to share our passion with every student. Learn how to not only use computational tools but how to work in teams, share ideas, present, communicate in short, join creative teams that make a positive difference. We believe that our approach to teaching-learning, coupled with practical experience gained during Industrial Training in reputed organizations, equips our students to handle the challenges posed by the software industry. We look forward to continue to offer our students a greater learning experience in the field of Computer Applications and welcome prospective students to join us and become ambassadors of Computer Applications. Programs Offered BCA The Department of Computer Applications offers undergraduate programmes based on world-class syllabus. The curriculum helps students to explore the field of Computer applications and Data Science. It also helps students to identify their skills and enhance their knowledge with creativity. The Computer Applications program focuses on the development of software and applications, computer programming, database management, and web development. MCA & M.Sc The Department of Computer Applications offers postgraduate programmes including core courses as well as elective independent study. It provides latitude for the students to explore the new technology. The syllabus is designed with the metrics of research as it helps students to enhance themselves with the knowledge of incorporating methodology, exploration, and interpretation in the field of research. Ph.D The Ph.D. program in the Department of Computer Applications has been specially designed to cater to the scholarly needs. The department gives privilege to the research scholars to do their research in their respective domains. The research supervisors empower the research scholars to do authentic research work. The institution supports the research endeavors of faculty and students by providing incentives for publications and patents. Placements MCA- 2022 Passed Out No. of Students Registered 57 No. of Students Placed 38 No. Of Unplaced students 19 (Ongoing) Highest CTC INR1125000perannum Prominent Recruiters Visited VMWARE, Amazon, JPMorgan Chase, Josh Technologies, Trilogy Innovations, Delloite, BCA- 2022 Passed Out No. of Students Registered 56 No. of Students Placed 33 No. Of Unplaced students 23 (Ongoing) Highest CTC 9 LPA Prominent Recruiters Visited Delloite, Infosys, CTS, AstraZeneca, Cerner, Wipro, TCS, Sutherland, LTI, Comcast, Philips, Mind Tree, Decimal Technologies Faculty Teaching environment and quality are central to SRMIST’s capabilities profile. Our Professors are the reason for our continued ability to foster vibrant and value adding learning experiences for our students. The success of our students’ in terms of their learning and overall development enabled by our faculty members is an area of focus of Leadership at SRMIST. Many opportunities are provided to our faculty members to conduct research and engage with the industry in consultancy and other projects. This platform brings to our faculty members an opportunity to expand their knowledge contribution as well as bring those rich experiential inputs to the classrooms and labs, therefore, benefiting our students. Faculty Members gallery Happenings SRMIST Collaborates with Tamil Nadu SIRD for Sustainable Village Development under Unnat Bharat Abhiyan Celebrating Traditions: Highlights from SRM’s Pongal Festival 2024 SRMIST Men’s Ball Badminton Team Secures Gold at State Tournament SRMIST Men’s Tennis Team Secures Double Gold Triumph in South Zone and All India Inter University Tournament SRMIST Men’s Volleyball Team Secures Gold in South Zone Inter University Tournament SRMIST Men’s Badminton Team Qualifies for All India & Khelo India University Games 2024 View More News Jan 22 International Conference on Recent Trends in Soft Computing Jan 5 Workshop on Soft Computing Oct 19 Seminor on Recent Technologies View More Events Infrastructure S.No Particulars Details 1. No. of Classrooms 11 2. Laboratories 4 3. Equipments Available 200 4. Seminar Hall (FSH) 1 Testimonials No data was found Alumni Connect Contact us Department of Computer Applications Department of Computer Applications, SRM Nagar, Kattankulathur -603203, Chengalpattu District, Tamil Nadu. 044-27455756 Extn: 4071 hod.dca.ktr@srmist.edu.in Icon-facebook Twitter Icon-instagram-1 Youtube Linkedin Globe-africa Enjoy your Student Life & Excel at SRM Login 29 ° C Group Institutions SRM University - AP (Andhra Pradesh) SRM University - Haryana SRM University - Sikkim Visitors Campus Tour How to Reach Admissions & Aid Scholarships Admission India Admission International Colleges @ SRMIST KTR Engineering & Technology Medical & Health Sciences Management Science & Humanities Hotel Management Law Agricultural Sciences Distance Education Online Education A to Z - Quicklinks Departments Programs Staff/Faculty Search Weather @ SRM Value Education Cell Internal Quality Assurance Cell [IQAC] Insights Innovation & Incubation Center Student Clubs Researgence Spectrum Public Disclosure AICTE RTI Mandatory Disclosures NAAC - IIQA Submitted IIQA List of Programs in IIQA Regulatory Approvals 2021-22 Regulatory Approvals 2022-23 Regulatory Approvals 2023-24 Media & Resources Press & Media Events Grievances Policies Colleges Engineering & Technology Medical & Health Sciences Management Science & Humanities Hotel Management Law Agricultural Sciences Distance Education Online Education A to Z - Quicklinks Departments Programs Find a Person Access for Students Faculty & Staffs Alumni Parents Insights Innovation & Incubation Center Student Clubs Researgence Spectrum IQAC Admissions & Aid Scholarships Admission India Admission International Media & Resources Press & Media Events Grievances Policies Mandatory Disclosures Downloads Visitors Campus Tour How to Reach Campuses Kattankulathur - Chennai Ramapuram - Chennai Vadapalani - Chennai Tiruchirappalli Delhi - NCR SRM University - AP (Andhra Pradesh) SRM University - Haryana SRM University - Sikkim +91 44 27417000 +91 44 27417777 +080 69087000 infodesk@srmist.edu.in Virtual Tour Videos Community Radio Email Stay in Touch Facebook-f Twitter Instagram Linkedin Youtube Login Announcements Announcements SRMJEEE 2024 Applications Open SRMJEEE (PG) 2024 Applications Open SRMJEEM 2024 Applications Open Science and Humanities UG / PG 2024 Applications Open Health Science UG / PG / POST PG 2024 Applications Open Law UG 2024 Applications Open MCh Admissions 2023-2024 Ph.D Admissions (Visvesvaraya Scheme Phase- II) Online Hostel Booking Schedule For Academic Year 2023-24 × Enquire Now Search this website Type then hit enter to search Close Menu Admissions Search Close Academics Engineering & Technology Management Science & Humanities Law Agricultural Sciences Distance Education Online Education Medicine & Health Sciences Medicine Dentistry Pharmacy Physiotherapy Occupational Therapy Nursing Public Health Research Research Overview Academic Research Central Research Laboratories and Facilities Research Council Research and Development Cell Patents Collaboration Student Research Innovation Hub Funded Research Campus Life Life at SRM Arts & Culture Sports Library NCC NSS Student Life SRM Hostels Transport Public Service Getting Around & Campus Safety Student Counselling Services Complaints & Redressal Anti-Discrimination & Anti-Ragging Facilities and Operations Directorate of Student Affairs Muthucharam International International Relations Visiting Foreign Faculty Members International Advisory Board Outward Mobility Inward Mobility About Overview History Accreditations & Rankings Awards & Recognition Apex Leadership Governance Administrative Heads Academic Heads Career Centre Menu Academics Engineering & Technology Management Science & Humanities Law Agricultural Sciences Distance Education Online Education Medicine & Health Sciences Medicine Dentistry Pharmacy Physiotherapy Occupational Therapy Nursing Public Health Research Research Overview Academic Research Central Research Laboratories and Facilities Research Council Research and Development Cell Patents Collaboration Student Research Innovation Hub Funded Research Campus Life Life at SRM Arts & Culture Sports Library NCC NSS Student Life SRM Hostels Transport Public Service Getting Around & Campus Safety Student Counselling Services Complaints & Redressal Anti-Discrimination & Anti-Ragging Facilities and Operations Directorate of Student Affairs Muthucharam International International Relations Visiting Foreign Faculty Members International Advisory Board Outward Mobility Inward Mobility About Overview History Accreditations & Rankings Awards & Recognition Apex Leadership Governance Administrative Heads Academic Heads Career Centre Controller of Examinations Departments Finder Staff Finder Program Finder News Events Careers Contact us Menu Controller of Examinations Departments Finder Staff Finder Program Finder News Events Careers Contact us Students Faculty & Staff Parents Visitors Alumni Examinations Campuses Kattankulathur – Chennai Ramapuram – Chennai Vadapalani – Chennai Tiruchirappalli Delhi – NCR Menu Students Faculty & Staff Parents Visitors Alumni Examinations Campuses Kattankulathur – Chennai Ramapuram – Chennai Vadapalani – Chennai Tiruchirappalli Delhi – NCR Skip to content Open toolbar Accessibility Tools Increase Text Decrease Text Grayscale High Contrast Negative Contrast Light Background Links Underline Readable Font Reset\n"
          ]
        }
      ]
    },
    {
      "cell_type": "code",
      "source": [
        "text_file=open(\"DCA data.txt\",\"w\")\n",
        "\n",
        "text_file.write(text)\n",
        "\n",
        "text_file.close()"
      ],
      "metadata": {
        "id": "SK_1-DjJIL6Q"
      },
      "execution_count": null,
      "outputs": []
    },
    {
      "cell_type": "code",
      "source": [
        "import textwrap\n",
        "import numpy as np\n",
        "import pandas as pd\n",
        "\n",
        "import google.generativeai as genai\n",
        "import google.ai.generativelanguage as glm\n",
        "\n",
        "# Used to securely store your API key\n",
        "from google.colab import userdata\n",
        "\n",
        "from IPython.display import Markdown\n"
      ],
      "metadata": {
        "id": "8YNGRpOzbFYP"
      },
      "execution_count": null,
      "outputs": []
    },
    {
      "cell_type": "code",
      "source": [
        "API_KEY = userdata.get(\"apikey\")"
      ],
      "metadata": {
        "id": "4aRJbGzKbO9y"
      },
      "execution_count": null,
      "outputs": []
    },
    {
      "cell_type": "code",
      "source": [
        "#SAMPLE TEST\n",
        "\n",
        "# title = \"The next generation of AI for developers and Google Workspace\"\n",
        "# sample_text = (\"Title: The next generation of AI for developers and Google Workspace\"\n",
        "#     \"\\n\"\n",
        "#     \"Full article:\\n\"\n",
        "#     \"\\n\"\n",
        "#     \"Gemini API & Google AI Studio: An approachable way to explore and prototype with generative AI applications\")\n",
        "\n",
        "# model = 'models/embedding-001'\n",
        "# embedding = genai.embed_content(model=model,\n",
        "#                                 content=sample_text,\n",
        "#                                 task_type=\"retrieval_document\",\n",
        "#                                 title=title)\n",
        "\n",
        "# print(embedding)\n"
      ],
      "metadata": {
        "id": "bDQHF55NcD5I"
      },
      "execution_count": null,
      "outputs": []
    },
    {
      "cell_type": "code",
      "source": [
        "DOCUMENT1 = {\n",
        "    \"title\": \"About Department of Computer Application\",\n",
        "    \"content\": \"Your Googlecar has a climate control system that allows you to adjust the temperature and airflow in the car. To operate the climate control system, use the buttons and knobs located on the center console.  Temperature: The temperature knob controls the temperature inside the car. Turn the knob clockwise to increase the temperature or counterclockwise to decrease the temperature. Airflow: The airflow knob controls the amount of airflow inside the car. Turn the knob clockwise to increase the airflow or counterclockwise to decrease the airflow. Fan speed: The fan speed knob controls the speed of the fan. Turn the knob clockwise to increase the fan speed or counterclockwise to decrease the fan speed. Mode: The mode button allows you to select the desired mode. The available modes are: Auto: The car will automatically adjust the temperature and airflow to maintain a comfortable level. Cool: The car will blow cool air into the car. Heat: The car will blow warm air into the car. Defrost: The car will blow warm air onto the windshield to defrost it.\"}\n",
        "DOCUMENT2 = {\n",
        "    \"title\": \"Touchscreen\",\n",
        "    \"content\": \"Your Googlecar has a large touchscreen display that provides access to a variety of features, including navigation, entertainment, and climate control. To use the touchscreen display, simply touch the desired icon.  For example, you can touch the \\\"Navigation\\\" icon to get directions to your destination or touch the \\\"Music\\\" icon to play your favorite songs.\"}\n",
        "DOCUMENT3 = {\n",
        "    \"title\": \"Shifting Gears\",\n",
        "    \"content\": \"Your Googlecar has an automatic transmission. To shift gears, simply move the shift lever to the desired position.  Park: This position is used when you are parked. The wheels are locked and the car cannot move. Reverse: This position is used to back up. Neutral: This position is used when you are stopped at a light or in traffic. The car is not in gear and will not move unless you press the gas pedal. Drive: This position is used to drive forward. Low: This position is used for driving in snow or other slippery conditions.\"}\n",
        "\n",
        "documents = [DOCUMENT1, DOCUMENT2, DOCUMENT3]\n"
      ],
      "metadata": {
        "id": "xK-NewtbcjIP"
      },
      "execution_count": null,
      "outputs": []
    },
    {
      "cell_type": "code",
      "source": [
        "df = pd.DataFrame(documents)\n",
        "df.columns = ['Title', 'Text']\n",
        "df"
      ],
      "metadata": {
        "colab": {
          "base_uri": "https://localhost:8080/",
          "height": 143
        },
        "id": "u7YuIA2rcoAZ",
        "outputId": "b33b14ce-5a8a-48df-bea7-942ff7b84173"
      },
      "execution_count": null,
      "outputs": [
        {
          "data": {
            "text/html": [
              "\n",
              "  <div id=\"df-4cf968a4-422d-4653-a8dd-362f42ea009d\" class=\"colab-df-container\">\n",
              "    <div>\n",
              "<style scoped>\n",
              "    .dataframe tbody tr th:only-of-type {\n",
              "        vertical-align: middle;\n",
              "    }\n",
              "\n",
              "    .dataframe tbody tr th {\n",
              "        vertical-align: top;\n",
              "    }\n",
              "\n",
              "    .dataframe thead th {\n",
              "        text-align: right;\n",
              "    }\n",
              "</style>\n",
              "<table border=\"1\" class=\"dataframe\">\n",
              "  <thead>\n",
              "    <tr style=\"text-align: right;\">\n",
              "      <th></th>\n",
              "      <th>Title</th>\n",
              "      <th>Text</th>\n",
              "    </tr>\n",
              "  </thead>\n",
              "  <tbody>\n",
              "    <tr>\n",
              "      <th>0</th>\n",
              "      <td>Operating the Climate Control System</td>\n",
              "      <td>Your Googlecar has a climate control system th...</td>\n",
              "    </tr>\n",
              "    <tr>\n",
              "      <th>1</th>\n",
              "      <td>Touchscreen</td>\n",
              "      <td>Your Googlecar has a large touchscreen display...</td>\n",
              "    </tr>\n",
              "    <tr>\n",
              "      <th>2</th>\n",
              "      <td>Shifting Gears</td>\n",
              "      <td>Your Googlecar has an automatic transmission. ...</td>\n",
              "    </tr>\n",
              "  </tbody>\n",
              "</table>\n",
              "</div>\n",
              "    <div class=\"colab-df-buttons\">\n",
              "\n",
              "  <div class=\"colab-df-container\">\n",
              "    <button class=\"colab-df-convert\" onclick=\"convertToInteractive('df-4cf968a4-422d-4653-a8dd-362f42ea009d')\"\n",
              "            title=\"Convert this dataframe to an interactive table.\"\n",
              "            style=\"display:none;\">\n",
              "\n",
              "  <svg xmlns=\"http://www.w3.org/2000/svg\" height=\"24px\" viewBox=\"0 -960 960 960\">\n",
              "    <path d=\"M120-120v-720h720v720H120Zm60-500h600v-160H180v160Zm220 220h160v-160H400v160Zm0 220h160v-160H400v160ZM180-400h160v-160H180v160Zm440 0h160v-160H620v160ZM180-180h160v-160H180v160Zm440 0h160v-160H620v160Z\"/>\n",
              "  </svg>\n",
              "    </button>\n",
              "\n",
              "  <style>\n",
              "    .colab-df-container {\n",
              "      display:flex;\n",
              "      gap: 12px;\n",
              "    }\n",
              "\n",
              "    .colab-df-convert {\n",
              "      background-color: #E8F0FE;\n",
              "      border: none;\n",
              "      border-radius: 50%;\n",
              "      cursor: pointer;\n",
              "      display: none;\n",
              "      fill: #1967D2;\n",
              "      height: 32px;\n",
              "      padding: 0 0 0 0;\n",
              "      width: 32px;\n",
              "    }\n",
              "\n",
              "    .colab-df-convert:hover {\n",
              "      background-color: #E2EBFA;\n",
              "      box-shadow: 0px 1px 2px rgba(60, 64, 67, 0.3), 0px 1px 3px 1px rgba(60, 64, 67, 0.15);\n",
              "      fill: #174EA6;\n",
              "    }\n",
              "\n",
              "    .colab-df-buttons div {\n",
              "      margin-bottom: 4px;\n",
              "    }\n",
              "\n",
              "    [theme=dark] .colab-df-convert {\n",
              "      background-color: #3B4455;\n",
              "      fill: #D2E3FC;\n",
              "    }\n",
              "\n",
              "    [theme=dark] .colab-df-convert:hover {\n",
              "      background-color: #434B5C;\n",
              "      box-shadow: 0px 1px 3px 1px rgba(0, 0, 0, 0.15);\n",
              "      filter: drop-shadow(0px 1px 2px rgba(0, 0, 0, 0.3));\n",
              "      fill: #FFFFFF;\n",
              "    }\n",
              "  </style>\n",
              "\n",
              "    <script>\n",
              "      const buttonEl =\n",
              "        document.querySelector('#df-4cf968a4-422d-4653-a8dd-362f42ea009d button.colab-df-convert');\n",
              "      buttonEl.style.display =\n",
              "        google.colab.kernel.accessAllowed ? 'block' : 'none';\n",
              "\n",
              "      async function convertToInteractive(key) {\n",
              "        const element = document.querySelector('#df-4cf968a4-422d-4653-a8dd-362f42ea009d');\n",
              "        const dataTable =\n",
              "          await google.colab.kernel.invokeFunction('convertToInteractive',\n",
              "                                                    [key], {});\n",
              "        if (!dataTable) return;\n",
              "\n",
              "        const docLinkHtml = 'Like what you see? Visit the ' +\n",
              "          '<a target=\"_blank\" href=https://colab.research.google.com/notebooks/data_table.ipynb>data table notebook</a>'\n",
              "          + ' to learn more about interactive tables.';\n",
              "        element.innerHTML = '';\n",
              "        dataTable['output_type'] = 'display_data';\n",
              "        await google.colab.output.renderOutput(dataTable, element);\n",
              "        const docLink = document.createElement('div');\n",
              "        docLink.innerHTML = docLinkHtml;\n",
              "        element.appendChild(docLink);\n",
              "      }\n",
              "    </script>\n",
              "  </div>\n",
              "\n",
              "\n",
              "<div id=\"df-625c54e1-5ae8-460f-9d9a-3612616a919b\">\n",
              "  <button class=\"colab-df-quickchart\" onclick=\"quickchart('df-625c54e1-5ae8-460f-9d9a-3612616a919b')\"\n",
              "            title=\"Suggest charts\"\n",
              "            style=\"display:none;\">\n",
              "\n",
              "<svg xmlns=\"http://www.w3.org/2000/svg\" height=\"24px\"viewBox=\"0 0 24 24\"\n",
              "     width=\"24px\">\n",
              "    <g>\n",
              "        <path d=\"M19 3H5c-1.1 0-2 .9-2 2v14c0 1.1.9 2 2 2h14c1.1 0 2-.9 2-2V5c0-1.1-.9-2-2-2zM9 17H7v-7h2v7zm4 0h-2V7h2v10zm4 0h-2v-4h2v4z\"/>\n",
              "    </g>\n",
              "</svg>\n",
              "  </button>\n",
              "\n",
              "<style>\n",
              "  .colab-df-quickchart {\n",
              "      --bg-color: #E8F0FE;\n",
              "      --fill-color: #1967D2;\n",
              "      --hover-bg-color: #E2EBFA;\n",
              "      --hover-fill-color: #174EA6;\n",
              "      --disabled-fill-color: #AAA;\n",
              "      --disabled-bg-color: #DDD;\n",
              "  }\n",
              "\n",
              "  [theme=dark] .colab-df-quickchart {\n",
              "      --bg-color: #3B4455;\n",
              "      --fill-color: #D2E3FC;\n",
              "      --hover-bg-color: #434B5C;\n",
              "      --hover-fill-color: #FFFFFF;\n",
              "      --disabled-bg-color: #3B4455;\n",
              "      --disabled-fill-color: #666;\n",
              "  }\n",
              "\n",
              "  .colab-df-quickchart {\n",
              "    background-color: var(--bg-color);\n",
              "    border: none;\n",
              "    border-radius: 50%;\n",
              "    cursor: pointer;\n",
              "    display: none;\n",
              "    fill: var(--fill-color);\n",
              "    height: 32px;\n",
              "    padding: 0;\n",
              "    width: 32px;\n",
              "  }\n",
              "\n",
              "  .colab-df-quickchart:hover {\n",
              "    background-color: var(--hover-bg-color);\n",
              "    box-shadow: 0 1px 2px rgba(60, 64, 67, 0.3), 0 1px 3px 1px rgba(60, 64, 67, 0.15);\n",
              "    fill: var(--button-hover-fill-color);\n",
              "  }\n",
              "\n",
              "  .colab-df-quickchart-complete:disabled,\n",
              "  .colab-df-quickchart-complete:disabled:hover {\n",
              "    background-color: var(--disabled-bg-color);\n",
              "    fill: var(--disabled-fill-color);\n",
              "    box-shadow: none;\n",
              "  }\n",
              "\n",
              "  .colab-df-spinner {\n",
              "    border: 2px solid var(--fill-color);\n",
              "    border-color: transparent;\n",
              "    border-bottom-color: var(--fill-color);\n",
              "    animation:\n",
              "      spin 1s steps(1) infinite;\n",
              "  }\n",
              "\n",
              "  @keyframes spin {\n",
              "    0% {\n",
              "      border-color: transparent;\n",
              "      border-bottom-color: var(--fill-color);\n",
              "      border-left-color: var(--fill-color);\n",
              "    }\n",
              "    20% {\n",
              "      border-color: transparent;\n",
              "      border-left-color: var(--fill-color);\n",
              "      border-top-color: var(--fill-color);\n",
              "    }\n",
              "    30% {\n",
              "      border-color: transparent;\n",
              "      border-left-color: var(--fill-color);\n",
              "      border-top-color: var(--fill-color);\n",
              "      border-right-color: var(--fill-color);\n",
              "    }\n",
              "    40% {\n",
              "      border-color: transparent;\n",
              "      border-right-color: var(--fill-color);\n",
              "      border-top-color: var(--fill-color);\n",
              "    }\n",
              "    60% {\n",
              "      border-color: transparent;\n",
              "      border-right-color: var(--fill-color);\n",
              "    }\n",
              "    80% {\n",
              "      border-color: transparent;\n",
              "      border-right-color: var(--fill-color);\n",
              "      border-bottom-color: var(--fill-color);\n",
              "    }\n",
              "    90% {\n",
              "      border-color: transparent;\n",
              "      border-bottom-color: var(--fill-color);\n",
              "    }\n",
              "  }\n",
              "</style>\n",
              "\n",
              "  <script>\n",
              "    async function quickchart(key) {\n",
              "      const quickchartButtonEl =\n",
              "        document.querySelector('#' + key + ' button');\n",
              "      quickchartButtonEl.disabled = true;  // To prevent multiple clicks.\n",
              "      quickchartButtonEl.classList.add('colab-df-spinner');\n",
              "      try {\n",
              "        const charts = await google.colab.kernel.invokeFunction(\n",
              "            'suggestCharts', [key], {});\n",
              "      } catch (error) {\n",
              "        console.error('Error during call to suggestCharts:', error);\n",
              "      }\n",
              "      quickchartButtonEl.classList.remove('colab-df-spinner');\n",
              "      quickchartButtonEl.classList.add('colab-df-quickchart-complete');\n",
              "    }\n",
              "    (() => {\n",
              "      let quickchartButtonEl =\n",
              "        document.querySelector('#df-625c54e1-5ae8-460f-9d9a-3612616a919b button');\n",
              "      quickchartButtonEl.style.display =\n",
              "        google.colab.kernel.accessAllowed ? 'block' : 'none';\n",
              "    })();\n",
              "  </script>\n",
              "</div>\n",
              "\n",
              "  <div id=\"id_2a5efc37-a338-4a6b-8258-60eac4a2147d\">\n",
              "    <style>\n",
              "      .colab-df-generate {\n",
              "        background-color: #E8F0FE;\n",
              "        border: none;\n",
              "        border-radius: 50%;\n",
              "        cursor: pointer;\n",
              "        display: none;\n",
              "        fill: #1967D2;\n",
              "        height: 32px;\n",
              "        padding: 0 0 0 0;\n",
              "        width: 32px;\n",
              "      }\n",
              "\n",
              "      .colab-df-generate:hover {\n",
              "        background-color: #E2EBFA;\n",
              "        box-shadow: 0px 1px 2px rgba(60, 64, 67, 0.3), 0px 1px 3px 1px rgba(60, 64, 67, 0.15);\n",
              "        fill: #174EA6;\n",
              "      }\n",
              "\n",
              "      [theme=dark] .colab-df-generate {\n",
              "        background-color: #3B4455;\n",
              "        fill: #D2E3FC;\n",
              "      }\n",
              "\n",
              "      [theme=dark] .colab-df-generate:hover {\n",
              "        background-color: #434B5C;\n",
              "        box-shadow: 0px 1px 3px 1px rgba(0, 0, 0, 0.15);\n",
              "        filter: drop-shadow(0px 1px 2px rgba(0, 0, 0, 0.3));\n",
              "        fill: #FFFFFF;\n",
              "      }\n",
              "    </style>\n",
              "    <button class=\"colab-df-generate\" onclick=\"generateWithVariable('df')\"\n",
              "            title=\"Generate code using this dataframe.\"\n",
              "            style=\"display:none;\">\n",
              "\n",
              "  <svg xmlns=\"http://www.w3.org/2000/svg\" height=\"24px\"viewBox=\"0 0 24 24\"\n",
              "       width=\"24px\">\n",
              "    <path d=\"M7,19H8.4L18.45,9,17,7.55,7,17.6ZM5,21V16.75L18.45,3.32a2,2,0,0,1,2.83,0l1.4,1.43a1.91,1.91,0,0,1,.58,1.4,1.91,1.91,0,0,1-.58,1.4L9.25,21ZM18.45,9,17,7.55Zm-12,3A5.31,5.31,0,0,0,4.9,8.1,5.31,5.31,0,0,0,1,6.5,5.31,5.31,0,0,0,4.9,4.9,5.31,5.31,0,0,0,6.5,1,5.31,5.31,0,0,0,8.1,4.9,5.31,5.31,0,0,0,12,6.5,5.46,5.46,0,0,0,6.5,12Z\"/>\n",
              "  </svg>\n",
              "    </button>\n",
              "    <script>\n",
              "      (() => {\n",
              "      const buttonEl =\n",
              "        document.querySelector('#id_2a5efc37-a338-4a6b-8258-60eac4a2147d button.colab-df-generate');\n",
              "      buttonEl.style.display =\n",
              "        google.colab.kernel.accessAllowed ? 'block' : 'none';\n",
              "\n",
              "      buttonEl.onclick = () => {\n",
              "        google.colab.notebook.generateWithVariable('df');\n",
              "      }\n",
              "      })();\n",
              "    </script>\n",
              "  </div>\n",
              "\n",
              "    </div>\n",
              "  </div>\n"
            ],
            "text/plain": [
              "                                  Title  \\\n",
              "0  Operating the Climate Control System   \n",
              "1                           Touchscreen   \n",
              "2                        Shifting Gears   \n",
              "\n",
              "                                                Text  \n",
              "0  Your Googlecar has a climate control system th...  \n",
              "1  Your Googlecar has a large touchscreen display...  \n",
              "2  Your Googlecar has an automatic transmission. ...  "
            ]
          },
          "execution_count": 52,
          "metadata": {},
          "output_type": "execute_result"
        }
      ]
    },
    {
      "cell_type": "code",
      "source": [
        "def embed_fn(title, text):\n",
        "  return genai.embed_content(model=model,\n",
        "                             content=text,\n",
        "                             task_type=\"retrieval_document\",\n",
        "                             title=title)[\"embedding\"]\n",
        "\n",
        "df['Embeddings'] = df.apply(lambda row: embed_fn(row['Title'], row['Text']), axis=1)\n",
        "df"
      ],
      "metadata": {
        "colab": {
          "base_uri": "https://localhost:8080/",
          "height": 143
        },
        "id": "flAW-cjPczoo",
        "outputId": "794f8d73-7c41-4385-ec47-aa10e0424642"
      },
      "execution_count": null,
      "outputs": [
        {
          "output_type": "execute_result",
          "data": {
            "text/plain": [
              "                                  Title  \\\n",
              "0  Operating the Climate Control System   \n",
              "1                           Touchscreen   \n",
              "2                        Shifting Gears   \n",
              "\n",
              "                                                Text  \\\n",
              "0  Your Googlecar has a climate control system th...   \n",
              "1  Your Googlecar has a large touchscreen display...   \n",
              "2  Your Googlecar has an automatic transmission. ...   \n",
              "\n",
              "                                          Embeddings  \n",
              "0  [-0.033361107, -0.021217084, -0.049581926, -0....  \n",
              "1  [0.009660736, -0.030662702, -0.017281422, -0.0...  \n",
              "2  [-0.04270796, -0.007160868, -0.03242516, -0.02...  "
            ],
            "text/html": [
              "\n",
              "  <div id=\"df-d4257578-f711-4cdd-87b6-25b8c145d461\" class=\"colab-df-container\">\n",
              "    <div>\n",
              "<style scoped>\n",
              "    .dataframe tbody tr th:only-of-type {\n",
              "        vertical-align: middle;\n",
              "    }\n",
              "\n",
              "    .dataframe tbody tr th {\n",
              "        vertical-align: top;\n",
              "    }\n",
              "\n",
              "    .dataframe thead th {\n",
              "        text-align: right;\n",
              "    }\n",
              "</style>\n",
              "<table border=\"1\" class=\"dataframe\">\n",
              "  <thead>\n",
              "    <tr style=\"text-align: right;\">\n",
              "      <th></th>\n",
              "      <th>Title</th>\n",
              "      <th>Text</th>\n",
              "      <th>Embeddings</th>\n",
              "    </tr>\n",
              "  </thead>\n",
              "  <tbody>\n",
              "    <tr>\n",
              "      <th>0</th>\n",
              "      <td>Operating the Climate Control System</td>\n",
              "      <td>Your Googlecar has a climate control system th...</td>\n",
              "      <td>[-0.033361107, -0.021217084, -0.049581926, -0....</td>\n",
              "    </tr>\n",
              "    <tr>\n",
              "      <th>1</th>\n",
              "      <td>Touchscreen</td>\n",
              "      <td>Your Googlecar has a large touchscreen display...</td>\n",
              "      <td>[0.009660736, -0.030662702, -0.017281422, -0.0...</td>\n",
              "    </tr>\n",
              "    <tr>\n",
              "      <th>2</th>\n",
              "      <td>Shifting Gears</td>\n",
              "      <td>Your Googlecar has an automatic transmission. ...</td>\n",
              "      <td>[-0.04270796, -0.007160868, -0.03242516, -0.02...</td>\n",
              "    </tr>\n",
              "  </tbody>\n",
              "</table>\n",
              "</div>\n",
              "    <div class=\"colab-df-buttons\">\n",
              "\n",
              "  <div class=\"colab-df-container\">\n",
              "    <button class=\"colab-df-convert\" onclick=\"convertToInteractive('df-d4257578-f711-4cdd-87b6-25b8c145d461')\"\n",
              "            title=\"Convert this dataframe to an interactive table.\"\n",
              "            style=\"display:none;\">\n",
              "\n",
              "  <svg xmlns=\"http://www.w3.org/2000/svg\" height=\"24px\" viewBox=\"0 -960 960 960\">\n",
              "    <path d=\"M120-120v-720h720v720H120Zm60-500h600v-160H180v160Zm220 220h160v-160H400v160Zm0 220h160v-160H400v160ZM180-400h160v-160H180v160Zm440 0h160v-160H620v160ZM180-180h160v-160H180v160Zm440 0h160v-160H620v160Z\"/>\n",
              "  </svg>\n",
              "    </button>\n",
              "\n",
              "  <style>\n",
              "    .colab-df-container {\n",
              "      display:flex;\n",
              "      gap: 12px;\n",
              "    }\n",
              "\n",
              "    .colab-df-convert {\n",
              "      background-color: #E8F0FE;\n",
              "      border: none;\n",
              "      border-radius: 50%;\n",
              "      cursor: pointer;\n",
              "      display: none;\n",
              "      fill: #1967D2;\n",
              "      height: 32px;\n",
              "      padding: 0 0 0 0;\n",
              "      width: 32px;\n",
              "    }\n",
              "\n",
              "    .colab-df-convert:hover {\n",
              "      background-color: #E2EBFA;\n",
              "      box-shadow: 0px 1px 2px rgba(60, 64, 67, 0.3), 0px 1px 3px 1px rgba(60, 64, 67, 0.15);\n",
              "      fill: #174EA6;\n",
              "    }\n",
              "\n",
              "    .colab-df-buttons div {\n",
              "      margin-bottom: 4px;\n",
              "    }\n",
              "\n",
              "    [theme=dark] .colab-df-convert {\n",
              "      background-color: #3B4455;\n",
              "      fill: #D2E3FC;\n",
              "    }\n",
              "\n",
              "    [theme=dark] .colab-df-convert:hover {\n",
              "      background-color: #434B5C;\n",
              "      box-shadow: 0px 1px 3px 1px rgba(0, 0, 0, 0.15);\n",
              "      filter: drop-shadow(0px 1px 2px rgba(0, 0, 0, 0.3));\n",
              "      fill: #FFFFFF;\n",
              "    }\n",
              "  </style>\n",
              "\n",
              "    <script>\n",
              "      const buttonEl =\n",
              "        document.querySelector('#df-d4257578-f711-4cdd-87b6-25b8c145d461 button.colab-df-convert');\n",
              "      buttonEl.style.display =\n",
              "        google.colab.kernel.accessAllowed ? 'block' : 'none';\n",
              "\n",
              "      async function convertToInteractive(key) {\n",
              "        const element = document.querySelector('#df-d4257578-f711-4cdd-87b6-25b8c145d461');\n",
              "        const dataTable =\n",
              "          await google.colab.kernel.invokeFunction('convertToInteractive',\n",
              "                                                    [key], {});\n",
              "        if (!dataTable) return;\n",
              "\n",
              "        const docLinkHtml = 'Like what you see? Visit the ' +\n",
              "          '<a target=\"_blank\" href=https://colab.research.google.com/notebooks/data_table.ipynb>data table notebook</a>'\n",
              "          + ' to learn more about interactive tables.';\n",
              "        element.innerHTML = '';\n",
              "        dataTable['output_type'] = 'display_data';\n",
              "        await google.colab.output.renderOutput(dataTable, element);\n",
              "        const docLink = document.createElement('div');\n",
              "        docLink.innerHTML = docLinkHtml;\n",
              "        element.appendChild(docLink);\n",
              "      }\n",
              "    </script>\n",
              "  </div>\n",
              "\n",
              "\n",
              "<div id=\"df-4060d3c6-c2f9-4809-865d-be56389ffa5e\">\n",
              "  <button class=\"colab-df-quickchart\" onclick=\"quickchart('df-4060d3c6-c2f9-4809-865d-be56389ffa5e')\"\n",
              "            title=\"Suggest charts\"\n",
              "            style=\"display:none;\">\n",
              "\n",
              "<svg xmlns=\"http://www.w3.org/2000/svg\" height=\"24px\"viewBox=\"0 0 24 24\"\n",
              "     width=\"24px\">\n",
              "    <g>\n",
              "        <path d=\"M19 3H5c-1.1 0-2 .9-2 2v14c0 1.1.9 2 2 2h14c1.1 0 2-.9 2-2V5c0-1.1-.9-2-2-2zM9 17H7v-7h2v7zm4 0h-2V7h2v10zm4 0h-2v-4h2v4z\"/>\n",
              "    </g>\n",
              "</svg>\n",
              "  </button>\n",
              "\n",
              "<style>\n",
              "  .colab-df-quickchart {\n",
              "      --bg-color: #E8F0FE;\n",
              "      --fill-color: #1967D2;\n",
              "      --hover-bg-color: #E2EBFA;\n",
              "      --hover-fill-color: #174EA6;\n",
              "      --disabled-fill-color: #AAA;\n",
              "      --disabled-bg-color: #DDD;\n",
              "  }\n",
              "\n",
              "  [theme=dark] .colab-df-quickchart {\n",
              "      --bg-color: #3B4455;\n",
              "      --fill-color: #D2E3FC;\n",
              "      --hover-bg-color: #434B5C;\n",
              "      --hover-fill-color: #FFFFFF;\n",
              "      --disabled-bg-color: #3B4455;\n",
              "      --disabled-fill-color: #666;\n",
              "  }\n",
              "\n",
              "  .colab-df-quickchart {\n",
              "    background-color: var(--bg-color);\n",
              "    border: none;\n",
              "    border-radius: 50%;\n",
              "    cursor: pointer;\n",
              "    display: none;\n",
              "    fill: var(--fill-color);\n",
              "    height: 32px;\n",
              "    padding: 0;\n",
              "    width: 32px;\n",
              "  }\n",
              "\n",
              "  .colab-df-quickchart:hover {\n",
              "    background-color: var(--hover-bg-color);\n",
              "    box-shadow: 0 1px 2px rgba(60, 64, 67, 0.3), 0 1px 3px 1px rgba(60, 64, 67, 0.15);\n",
              "    fill: var(--button-hover-fill-color);\n",
              "  }\n",
              "\n",
              "  .colab-df-quickchart-complete:disabled,\n",
              "  .colab-df-quickchart-complete:disabled:hover {\n",
              "    background-color: var(--disabled-bg-color);\n",
              "    fill: var(--disabled-fill-color);\n",
              "    box-shadow: none;\n",
              "  }\n",
              "\n",
              "  .colab-df-spinner {\n",
              "    border: 2px solid var(--fill-color);\n",
              "    border-color: transparent;\n",
              "    border-bottom-color: var(--fill-color);\n",
              "    animation:\n",
              "      spin 1s steps(1) infinite;\n",
              "  }\n",
              "\n",
              "  @keyframes spin {\n",
              "    0% {\n",
              "      border-color: transparent;\n",
              "      border-bottom-color: var(--fill-color);\n",
              "      border-left-color: var(--fill-color);\n",
              "    }\n",
              "    20% {\n",
              "      border-color: transparent;\n",
              "      border-left-color: var(--fill-color);\n",
              "      border-top-color: var(--fill-color);\n",
              "    }\n",
              "    30% {\n",
              "      border-color: transparent;\n",
              "      border-left-color: var(--fill-color);\n",
              "      border-top-color: var(--fill-color);\n",
              "      border-right-color: var(--fill-color);\n",
              "    }\n",
              "    40% {\n",
              "      border-color: transparent;\n",
              "      border-right-color: var(--fill-color);\n",
              "      border-top-color: var(--fill-color);\n",
              "    }\n",
              "    60% {\n",
              "      border-color: transparent;\n",
              "      border-right-color: var(--fill-color);\n",
              "    }\n",
              "    80% {\n",
              "      border-color: transparent;\n",
              "      border-right-color: var(--fill-color);\n",
              "      border-bottom-color: var(--fill-color);\n",
              "    }\n",
              "    90% {\n",
              "      border-color: transparent;\n",
              "      border-bottom-color: var(--fill-color);\n",
              "    }\n",
              "  }\n",
              "</style>\n",
              "\n",
              "  <script>\n",
              "    async function quickchart(key) {\n",
              "      const quickchartButtonEl =\n",
              "        document.querySelector('#' + key + ' button');\n",
              "      quickchartButtonEl.disabled = true;  // To prevent multiple clicks.\n",
              "      quickchartButtonEl.classList.add('colab-df-spinner');\n",
              "      try {\n",
              "        const charts = await google.colab.kernel.invokeFunction(\n",
              "            'suggestCharts', [key], {});\n",
              "      } catch (error) {\n",
              "        console.error('Error during call to suggestCharts:', error);\n",
              "      }\n",
              "      quickchartButtonEl.classList.remove('colab-df-spinner');\n",
              "      quickchartButtonEl.classList.add('colab-df-quickchart-complete');\n",
              "    }\n",
              "    (() => {\n",
              "      let quickchartButtonEl =\n",
              "        document.querySelector('#df-4060d3c6-c2f9-4809-865d-be56389ffa5e button');\n",
              "      quickchartButtonEl.style.display =\n",
              "        google.colab.kernel.accessAllowed ? 'block' : 'none';\n",
              "    })();\n",
              "  </script>\n",
              "</div>\n",
              "\n",
              "  <div id=\"id_1b6aa211-83d6-4cfa-b438-61642cc34ef5\">\n",
              "    <style>\n",
              "      .colab-df-generate {\n",
              "        background-color: #E8F0FE;\n",
              "        border: none;\n",
              "        border-radius: 50%;\n",
              "        cursor: pointer;\n",
              "        display: none;\n",
              "        fill: #1967D2;\n",
              "        height: 32px;\n",
              "        padding: 0 0 0 0;\n",
              "        width: 32px;\n",
              "      }\n",
              "\n",
              "      .colab-df-generate:hover {\n",
              "        background-color: #E2EBFA;\n",
              "        box-shadow: 0px 1px 2px rgba(60, 64, 67, 0.3), 0px 1px 3px 1px rgba(60, 64, 67, 0.15);\n",
              "        fill: #174EA6;\n",
              "      }\n",
              "\n",
              "      [theme=dark] .colab-df-generate {\n",
              "        background-color: #3B4455;\n",
              "        fill: #D2E3FC;\n",
              "      }\n",
              "\n",
              "      [theme=dark] .colab-df-generate:hover {\n",
              "        background-color: #434B5C;\n",
              "        box-shadow: 0px 1px 3px 1px rgba(0, 0, 0, 0.15);\n",
              "        filter: drop-shadow(0px 1px 2px rgba(0, 0, 0, 0.3));\n",
              "        fill: #FFFFFF;\n",
              "      }\n",
              "    </style>\n",
              "    <button class=\"colab-df-generate\" onclick=\"generateWithVariable('df')\"\n",
              "            title=\"Generate code using this dataframe.\"\n",
              "            style=\"display:none;\">\n",
              "\n",
              "  <svg xmlns=\"http://www.w3.org/2000/svg\" height=\"24px\"viewBox=\"0 0 24 24\"\n",
              "       width=\"24px\">\n",
              "    <path d=\"M7,19H8.4L18.45,9,17,7.55,7,17.6ZM5,21V16.75L18.45,3.32a2,2,0,0,1,2.83,0l1.4,1.43a1.91,1.91,0,0,1,.58,1.4,1.91,1.91,0,0,1-.58,1.4L9.25,21ZM18.45,9,17,7.55Zm-12,3A5.31,5.31,0,0,0,4.9,8.1,5.31,5.31,0,0,0,1,6.5,5.31,5.31,0,0,0,4.9,4.9,5.31,5.31,0,0,0,6.5,1,5.31,5.31,0,0,0,8.1,4.9,5.31,5.31,0,0,0,12,6.5,5.46,5.46,0,0,0,6.5,12Z\"/>\n",
              "  </svg>\n",
              "    </button>\n",
              "    <script>\n",
              "      (() => {\n",
              "      const buttonEl =\n",
              "        document.querySelector('#id_1b6aa211-83d6-4cfa-b438-61642cc34ef5 button.colab-df-generate');\n",
              "      buttonEl.style.display =\n",
              "        google.colab.kernel.accessAllowed ? 'block' : 'none';\n",
              "\n",
              "      buttonEl.onclick = () => {\n",
              "        google.colab.notebook.generateWithVariable('df');\n",
              "      }\n",
              "      })();\n",
              "    </script>\n",
              "  </div>\n",
              "\n",
              "    </div>\n",
              "  </div>\n"
            ]
          },
          "metadata": {},
          "execution_count": 53
        }
      ]
    },
    {
      "cell_type": "code",
      "source": [
        "query = \"How do you shift gears in the Google car?\"\n",
        "model = 'models/embedding-001'\n",
        "\n",
        "request = genai.embed_content(model=model,\n",
        "                              content=query,\n",
        "                              task_type=\"retrieval_query\")"
      ],
      "metadata": {
        "id": "W3s5mlv9c42c"
      },
      "execution_count": null,
      "outputs": []
    },
    {
      "cell_type": "code",
      "source": [
        "def find_best_passage(query, dataframe):\n",
        "  \"\"\"\n",
        "  Compute the distances between the query and each document in the dataframe\n",
        "  using the dot product.\n",
        "  \"\"\"\n",
        "  query_embedding = genai.embed_content(model=model,\n",
        "                                        content=query,\n",
        "                                        task_type=\"retrieval_query\")\n",
        "  dot_products = np.dot(np.stack(dataframe['Embeddings']), query_embedding[\"embedding\"])\n",
        "  idx = np.argmax(dot_products)\n",
        "  return dataframe.iloc[idx]['Text'] # Return text from index with max value\n"
      ],
      "metadata": {
        "id": "13SoNPF0dA98"
      },
      "execution_count": null,
      "outputs": []
    },
    {
      "cell_type": "code",
      "source": [
        "passage = find_best_passage(query, df)\n",
        "passage"
      ],
      "metadata": {
        "colab": {
          "base_uri": "https://localhost:8080/",
          "height": 87
        },
        "id": "n8HrAhfddIRf",
        "outputId": "5c69cf5c-6f63-41c8-8b0b-8919d2f0b46f"
      },
      "execution_count": null,
      "outputs": [
        {
          "output_type": "execute_result",
          "data": {
            "text/plain": [
              "'Your Googlecar has an automatic transmission. To shift gears, simply move the shift lever to the desired position.  Park: This position is used when you are parked. The wheels are locked and the car cannot move. Reverse: This position is used to back up. Neutral: This position is used when you are stopped at a light or in traffic. The car is not in gear and will not move unless you press the gas pedal. Drive: This position is used to drive forward. Low: This position is used for driving in snow or other slippery conditions.'"
            ],
            "application/vnd.google.colaboratory.intrinsic+json": {
              "type": "string"
            }
          },
          "metadata": {},
          "execution_count": 56
        }
      ]
    },
    {
      "cell_type": "code",
      "source": [
        "def make_prompt(query, relevant_passage):\n",
        "  escaped = relevant_passage.replace(\"'\", \"\").replace('\"', \"\").replace(\"\\n\", \" \")\n",
        "  prompt = textwrap.dedent(\"\"\"You are a helpful and informative bot that answers questions using text from the reference passage included below. \\\n",
        "  Be sure to respond in a complete sentence, being comprehensive, including all relevant background information. \\\n",
        "  However, you are talking to a non-technical audience, so be sure to break down complicated concepts and \\\n",
        "  strike a friendly and converstional tone. \\\n",
        "  If the passage is irrelevant to the answer, you may ignore it.\n",
        "  QUESTION: '{query}'\n",
        "  PASSAGE: '{relevant_passage}'\n",
        "\n",
        "    ANSWER:\n",
        "  \"\"\").format(query=query, relevant_passage=escaped)\n",
        "\n",
        "  return prompt"
      ],
      "metadata": {
        "id": "hiYM-CJIdSVo"
      },
      "execution_count": null,
      "outputs": []
    },
    {
      "cell_type": "code",
      "source": [
        "prompt = make_prompt(query, passage)\n",
        "print(prompt)"
      ],
      "metadata": {
        "colab": {
          "base_uri": "https://localhost:8080/"
        },
        "id": "o1G25GhAdYME",
        "outputId": "7d64569b-eb98-4fb1-ec8b-17787292fd87"
      },
      "execution_count": null,
      "outputs": [
        {
          "output_type": "stream",
          "name": "stdout",
          "text": [
            "You are a helpful and informative bot that answers questions using text from the reference passage included below.   Be sure to respond in a complete sentence, being comprehensive, including all relevant background information.   However, you are talking to a non-technical audience, so be sure to break down complicated concepts and   strike a friendly and converstional tone.   If the passage is irrelevant to the answer, you may ignore it.\n",
            "  QUESTION: 'How do you shift gears in the Google car?'\n",
            "  PASSAGE: 'Your Googlecar has an automatic transmission. To shift gears, simply move the shift lever to the desired position.  Park: This position is used when you are parked. The wheels are locked and the car cannot move. Reverse: This position is used to back up. Neutral: This position is used when you are stopped at a light or in traffic. The car is not in gear and will not move unless you press the gas pedal. Drive: This position is used to drive forward. Low: This position is used for driving in snow or other slippery conditions.'\n",
            "\n",
            "    ANSWER:\n",
            "\n"
          ]
        }
      ]
    },
    {
      "cell_type": "code",
      "source": [
        "for m in genai.list_models():\n",
        "  if 'generateContent' in m.supported_generation_methods:\n",
        "    print(m.name)"
      ],
      "metadata": {
        "colab": {
          "base_uri": "https://localhost:8080/",
          "height": 52
        },
        "id": "vQPa9qtkdir5",
        "outputId": "f9d9904d-bd1e-473f-e2e6-28adfb17b20d"
      },
      "execution_count": null,
      "outputs": [
        {
          "output_type": "stream",
          "name": "stdout",
          "text": [
            "models/gemini-pro\n",
            "models/gemini-pro-vision\n"
          ]
        }
      ]
    },
    {
      "cell_type": "code",
      "source": [
        "model = genai.GenerativeModel('gemini-pro')\n",
        "answer = model.generate_content(prompt)"
      ],
      "metadata": {
        "id": "2vun9_vHdmGZ"
      },
      "execution_count": null,
      "outputs": []
    },
    {
      "cell_type": "code",
      "source": [
        "print(answer.text)"
      ],
      "metadata": {
        "colab": {
          "base_uri": "https://localhost:8080/"
        },
        "id": "C7W1pPYYdmBF",
        "outputId": "2fba06db-6676-48a5-8233-dbbf47dfa212"
      },
      "execution_count": null,
      "outputs": [
        {
          "output_type": "stream",
          "name": "stdout",
          "text": [
            "With the Google car, you don't need to worry about shifting gears like in traditional vehicles. It comes equipped with an automatic transmission. To change gears, just move the shift lever to the desired position. Park your car by setting it to \"Park,\" which will lock the wheels and prevent any movement. Use \"Reverse\" to move backward, and select \"Neutral\" when you're at a light or in traffic. To drive forward, put it in \"Drive.\" Lastly, if you encounter snowy or slippery roads, select \"Low\" for optimal control.\n"
          ]
        }
      ]
    }
  ]
}